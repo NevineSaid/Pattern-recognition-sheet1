{
  "nbformat": 4,
  "nbformat_minor": 0,
  "metadata": {
    "colab": {
      "name": "FaceRecognition_New.ipynb",
      "version": "0.3.2",
      "provenance": [],
      "collapsed_sections": [],
      "include_colab_link": true
    },
    "kernelspec": {
      "display_name": "Python 3",
      "language": "python",
      "name": "python3"
    }
  },
  "cells": [
    {
      "cell_type": "markdown",
      "metadata": {
        "id": "view-in-github",
        "colab_type": "text"
      },
      "source": [
        "<a href=\"https://colab.research.google.com/github/NevineSaid/Pattern-recognition-sheet1/blob/master/FaceRecognition_New.ipynb\" target=\"_parent\"><img src=\"https://colab.research.google.com/assets/colab-badge.svg\" alt=\"Open In Colab\"/></a>"
      ]
    },
    {
      "metadata": {
        "id": "y6KyeicjEOaY",
        "colab_type": "code",
        "outputId": "f478f114-4659-4eeb-ac48-3812538f71cd",
        "colab": {
          "base_uri": "https://localhost:8080/",
          "height": 126
        }
      },
      "cell_type": "code",
      "source": [
        "import glob, os\n",
        "import numpy as np\n",
        "import cv2\n",
        "from google.colab import drive\n",
        "from sklearn.neighbors import KNeighborsClassifier\n",
        "from sklearn.metrics import confusion_matrix\n",
        "from sklearn.metrics import accuracy_score\n",
        "from sklearn.model_selection import cross_val_score\n",
        "import matplotlib.pyplot as plt\n",
        "drive.mount('/content/drive')"
      ],
      "execution_count": 0,
      "outputs": [
        {
          "output_type": "stream",
          "text": [
            "Go to this URL in a browser: https://accounts.google.com/o/oauth2/auth?client_id=947318989803-6bn6qk8qdgf4n4g3pfee6491hc0brc4i.apps.googleusercontent.com&redirect_uri=urn%3Aietf%3Awg%3Aoauth%3A2.0%3Aoob&scope=email%20https%3A%2F%2Fwww.googleapis.com%2Fauth%2Fdocs.test%20https%3A%2F%2Fwww.googleapis.com%2Fauth%2Fdrive%20https%3A%2F%2Fwww.googleapis.com%2Fauth%2Fdrive.photos.readonly%20https%3A%2F%2Fwww.googleapis.com%2Fauth%2Fpeopleapi.readonly&response_type=code\n",
            "\n",
            "Enter your authorization code:\n",
            "··········\n",
            "Mounted at /content/drive\n"
          ],
          "name": "stdout"
        }
      ]
    },
    {
      "metadata": {
        "id": "LQbD3lATVfs-",
        "colab_type": "text"
      },
      "cell_type": "markdown",
      "source": [
        "# Download the dataset and understand the format:\n",
        "The dataset consists of .pgm grayscale images. We can read them using cv2.imread() as per the code below"
      ]
    },
    {
      "metadata": {
        "scrolled": false,
        "id": "RNrYgYNiEOal",
        "colab_type": "code",
        "outputId": "580cfe76-4e48-4675-e4f1-34e5502a7d6d",
        "colab": {
          "base_uri": "https://localhost:8080/",
          "height": 35
        }
      },
      "cell_type": "code",
      "source": [
        "faces=[]\n",
        "unrolled_faces=[]\n",
        "labels= []\n",
        "\n",
        "print(os.getcwd()) \n",
        "dire=\"/content/drive/My Drive/Colab Notebooks/orl_faces\"\n",
        "\n",
        "i=0\n",
        "for folder in os.listdir(dire):\n",
        "    face_dir=os.path.join(dire,folder) \n",
        "    labels.append(folder)\n",
        "\n",
        "    os.chdir(face_dir)\n",
        "    for face in os.listdir(face_dir):\n",
        "        fc=os.path.join(face_dir,face)\n",
        "        faces.append(cv2.imread(fc,0))\n",
        "         \n",
        "        unrolled_faces.append(np.array(cv2.imread(fc,0)).flatten())"
      ],
      "execution_count": 0,
      "outputs": [
        {
          "output_type": "stream",
          "text": [
            "/content\n"
          ],
          "name": "stdout"
        }
      ]
    },
    {
      "metadata": {
        "id": "2TFTnR6sXI9L",
        "colab_type": "text"
      },
      "cell_type": "markdown",
      "source": [
        "# Generate the Data Matrix and the Label vector\n",
        "We have unrolled the faces into one data matrix of size 400 x 10304 where each row represents an instance (image) and each column represents the dimesion."
      ]
    },
    {
      "metadata": {
        "id": "48dVqAnmXJpM",
        "colab_type": "code",
        "outputId": "e29154d0-f34e-4d74-be51-43b2fe5bb4e0",
        "colab": {
          "base_uri": "https://localhost:8080/",
          "height": 106
        }
      },
      "cell_type": "code",
      "source": [
        "data_mat =np.array(unrolled_faces)\n",
        "labels = np.array(labels)\n",
        "\n",
        "print(data_mat.shape)\n",
        "print(labels)\n",
        "\n",
        "# face1  = data_mat[0].r\n",
        "# plt.imshow(face1, cmap='gray')\n",
        "# plt.figure()\n",
        "# print(labels[0])"
      ],
      "execution_count": 0,
      "outputs": [
        {
          "output_type": "stream",
          "text": [
            "(400, 10304)\n",
            "['s16' 's12' 's14' 's1' 's10' 's11' 's13' 's15' 's17' 's18' 's24' 's27'\n",
            " 's20' 's25' 's23' 's19' 's26' 's22' 's21' 's2' 's31' 's36' 's33' 's29'\n",
            " 's28' 's35' 's34' 's3' 's32' 's30' 's8' 's4' 's38' 's9' 's37' 's7' 's6'\n",
            " 's39' 's40' 's5']\n"
          ],
          "name": "stdout"
        }
      ]
    },
    {
      "metadata": {
        "id": "l7KjFlpFYFEI",
        "colab_type": "text"
      },
      "cell_type": "markdown",
      "source": [
        "# Split the Dataset into Training and Test sets"
      ]
    },
    {
      "metadata": {
        "id": "6GxqLkb3EOav",
        "colab_type": "code",
        "outputId": "e6da09b0-dabb-43d6-fb2e-94da2c01d916",
        "colab": {
          "base_uri": "https://localhost:8080/",
          "height": 52
        }
      },
      "cell_type": "code",
      "source": [
        "test = data_mat[::2] \n",
        "train = data_mat[1::2]\n",
        "\n",
        "new_train_labels = np.array([])\n",
        "\n",
        "for lbl in labels:\n",
        "  for i in range(0,5):\n",
        "    new_train_labels = np.append(new_train_labels,lbl)\n",
        "    \n",
        "    \n",
        "\n",
        "\n",
        "print(train.shape) #train labels same as test labels\n",
        "print(new_train_labels.shape)\n"
      ],
      "execution_count": 0,
      "outputs": [
        {
          "output_type": "stream",
          "text": [
            "(200, 10304)\n",
            "(200,)\n"
          ],
          "name": "stdout"
        }
      ]
    },
    {
      "metadata": {
        "id": "_hucf_ZcY7W4",
        "colab_type": "text"
      },
      "cell_type": "markdown",
      "source": [
        "# Classification using PCA"
      ]
    },
    {
      "metadata": {
        "id": "YZn5pdsSEOa2",
        "colab_type": "code",
        "outputId": "30d62d91-c36a-4dee-e532-cdb97243a2fb",
        "colab": {
          "base_uri": "https://localhost:8080/",
          "height": 52
        }
      },
      "cell_type": "code",
      "source": [
        "#PCA\n",
        "\n",
        "#calculate mean on dimensions\n",
        "mean = np.mean(train,axis = 0) \n",
        "\n",
        "#center the train and test data\n",
        "train_centered = train - mean\n",
        "test_centered= test -np.mean(test, axis = 0)\n",
        "\n",
        "#calculate covariance matrix\n",
        "cov = np.cov(train_centered.T, bias = True) # shape (10304,10304)\n",
        "\n",
        "print(mean)\n",
        "print(cov.shape)\n",
        "\n",
        "\n"
      ],
      "execution_count": 0,
      "outputs": [
        {
          "output_type": "stream",
          "text": [
            "[85.125 84.9   85.53  ... 74.05  74.865 74.055]\n",
            "(10304, 10304)\n"
          ],
          "name": "stdout"
        }
      ]
    },
    {
      "metadata": {
        "id": "aS4d4KbX8qVK",
        "colab_type": "code",
        "outputId": "67379941-5ea3-4e8b-ed75-9588d566bb37",
        "colab": {
          "base_uri": "https://localhost:8080/",
          "height": 312
        }
      },
      "cell_type": "code",
      "source": [
        "#calculate eigenvalues and eigenvectors from covariance matrix\n",
        "values, vectors = np.linalg.eigh(cov)\n",
        "\n",
        "print('values',values)\n",
        "print('vectors',vectors)\n",
        "print('vectors shape: ',vectors.shape)\n",
        "\n",
        "#sum of all lamdas\n",
        "sum = 0\n",
        "for lamda in values:\n",
        "  sum+= lamda\n",
        "  \n",
        "print('sum of all lamdas is: ',sum)\n",
        "\n",
        "#sort eigenvalues and vectors descendingly\n",
        "idx = values.argsort()[::-1]\n",
        "values = values[idx]\n",
        "vectors = vectors[:,idx]\n"
      ],
      "execution_count": 0,
      "outputs": [
        {
          "output_type": "stream",
          "text": [
            "values [-1.92048673e-09 -1.61321426e-09 -1.13285423e-09 ...  1.10812794e+06\n",
            "  2.06864404e+06  2.73345260e+06]\n",
            "vectors [[ 0.          0.          0.         ...  0.01627512  0.01550831\n",
            "  -0.00139244]\n",
            " [ 0.57051435  0.05076318 -0.01156647 ...  0.01671146  0.01553177\n",
            "  -0.00150413]\n",
            " [-0.3174489  -0.42827703 -0.05316387 ...  0.01651685  0.01536263\n",
            "  -0.00160288]\n",
            " ...\n",
            " [-0.01112249 -0.00572374  0.00246344 ...  0.01698592 -0.00904779\n",
            "  -0.00609443]\n",
            " [-0.0197024  -0.01371974 -0.01177227 ...  0.0170132  -0.00926794\n",
            "  -0.00651402]\n",
            " [-0.01403722  0.00788643 -0.00995663 ...  0.01737217 -0.00800858\n",
            "  -0.00701662]]\n",
            "vectors shape:  (10304, 10304)\n",
            "sum of all lamdas is:  15733950.00342499\n"
          ],
          "name": "stdout"
        }
      ]
    },
    {
      "metadata": {
        "id": "JbOU6-7dpoR3",
        "colab_type": "code",
        "colab": {}
      },
      "cell_type": "code",
      "source": [
        "# eigen_face1  = vectors[:,1].reshape(112,92)\n",
        "# plt.imshow(eigen_face1, cmap='gray')\n",
        "# plt.figure()"
      ],
      "execution_count": 0,
      "outputs": []
    },
    {
      "metadata": {
        "id": "DQMS0CNxclfr",
        "colab_type": "code",
        "outputId": "1abf405b-8ec7-426e-e045-31f5fbf862a6",
        "colab": {
          "base_uri": "https://localhost:8080/",
          "height": 87
        }
      },
      "cell_type": "code",
      "source": [
        "# Calculating the projection matrix based on different values of alpha and projecting the train and test sets separately\n",
        "sum_r=0\n",
        "i=0\n",
        "alpha = np.array([0.8,0.85,0.9,0.95])\n",
        "for value in alpha:\n",
        "    for lamda in values:\n",
        "        if((sum_r/ sum )< value):\n",
        "            sum_r += lamda\n",
        "            i+=1\n",
        "\n",
        "    print('number of dimensions when alpha =  ',value,'is: ',i+1)\n",
        "    if(value == 0.8):\n",
        "      new_basis_08 =vectors[:,0:i+1]\n",
        "      projected_data_08 = np.dot(new_basis_08.T , train_centered.T)\n",
        "      test_data_08 = np.dot(new_basis_08.T , test_centered.T)\n",
        "\n",
        "      \n",
        "    elif (value == 0.85):\n",
        "      new_basis_085 =vectors[:,0:i+1]\n",
        "      projected_data_085 =np.dot( new_basis_085.T ,train_centered.T)\n",
        "      test_data_085 = np.dot(new_basis_085.T , test_centered.T)\n",
        "\n",
        "      \n",
        "    elif(value == 0.9):\n",
        "      new_basis_09 =vectors[:,0:i+1]\n",
        "      projected_data_09 = np.dot(new_basis_09.T , train_centered.T)\n",
        "      test_data_09 = np.dot(new_basis_09.T , test_centered.T)\n",
        "\n",
        "      \n",
        "    elif(value == 0.95):\n",
        "      new_basis_095 =vectors[:,0:i+1]\n",
        "      projected_data_095 = np.dot(new_basis_095.T , train_centered.T)\n",
        "      test_data_095 = np.dot(new_basis_095.T , test_centered.T)\n",
        "      \n",
        "    sum_r=0\n",
        "    i=0  \n"
      ],
      "execution_count": 0,
      "outputs": [
        {
          "output_type": "stream",
          "text": [
            "number of dimensions when alpha =   0.8 is:  37\n",
            "number of dimensions when alpha =   0.85 is:  52\n",
            "number of dimensions when alpha =   0.9 is:  76\n",
            "number of dimensions when alpha =   0.95 is:  116\n"
          ],
          "name": "stdout"
        }
      ]
    },
    {
      "metadata": {
        "id": "fXiPKgTvp4gF",
        "colab_type": "code",
        "outputId": "9941547a-d236-40d2-9c20-cb28423e0518",
        "colab": {
          "base_uri": "https://localhost:8080/",
          "height": 379
        }
      },
      "cell_type": "code",
      "source": [
        "#KNN Classifier\n",
        "#Report Accuracy for every value of alpha separately.\n",
        "projected_data = [projected_data_08.T,projected_data_085.T,projected_data_09.T,projected_data_095.T]\n",
        "test_data = [test_data_08.T, test_data_085.T, test_data_09.T, test_data_095.T]\n",
        "acc= []\n",
        "\n",
        "clf = KNeighborsClassifier(n_neighbors = 1, weights = 'distance')\n",
        "\n",
        "i=0\n",
        "for d in projected_data:\n",
        "  clf.fit(d, new_train_labels)\n",
        "  output_labels = clf.predict(test_data[i])\n",
        "  acc.append(accuracy_score(output_labels,new_train_labels))\n",
        "  i+=1\n",
        "  \n",
        "print('Accuracy values for alpha = 0.8, 0.85, 0.9, 0.95 consecutively: ', acc)\n",
        "  \n",
        "#plot alpha against accuracy\n",
        "plt.plot(alpha, acc)\n",
        "plt.xlabel('Alpha')\n",
        "plt.ylabel('Accuracy')\n",
        "plt.show()\n",
        "\n",
        "#accuracy increases as alpha increases"
      ],
      "execution_count": 0,
      "outputs": [
        {
          "output_type": "stream",
          "text": [
            "Accuracy values for alpha = 0.8, 0.85, 0.9, 0.95 consecutively:  [0.925, 0.925, 0.94, 0.94]\n"
          ],
          "name": "stdout"
        },
        {
          "output_type": "display_data",
          "data": {
            "image/png": "[encoded data removed]",
            "text/plain": [
              "<Figure size 576x396 with 1 Axes>"
            ]
          },
          "metadata": {
            "tags": []
          }
        }
      ]
    },
    {
      "metadata": {
        "id": "fKkeWo1EcWRC",
        "colab_type": "text"
      },
      "cell_type": "markdown",
      "source": [
        "#### Can you find a relation between alpha and the classification accuracy?\n",
        "Yes, accuracy increases as alpha increases."
      ]
    },
    {
      "metadata": {
        "id": "ln30qVRWtPAX",
        "colab_type": "code",
        "outputId": "7a5a6fe0-4545-49b5-e7e6-f82910b7426f",
        "colab": {
          "base_uri": "https://localhost:8080/",
          "height": 1569
        }
      },
      "cell_type": "code",
      "source": [
        "# Set the number of neighbors in the K-NN classifier to 1,3,5,7.\n",
        "neighbors = list(range(1,8,2))\n",
        "cv_scores = []\n",
        "#tuning\n",
        "for p in projected_data:\n",
        "  for k in neighbors:\n",
        "    knn = KNeighborsClassifier(n_neighbors=k, weights = 'distance') #tie breaks according to distance\n",
        "\n",
        "    scores = cross_val_score(knn, p, new_train_labels, cv=5, scoring='accuracy')\n",
        "    cv_scores.append(scores.mean())\n",
        "        \n",
        "#Plot (or tabulate) the performance measure (accuracy) against the K value.\n",
        "i=0\n",
        "for a in alpha:\n",
        "  print('For alpha = ', a)\n",
        "  plt.plot(cv_scores[i:i+4], neighbors)\n",
        "  plt.xlabel('Accuracy scores')\n",
        "  plt.ylabel('K value')\n",
        "  plt.show()\n",
        "  print(cv_scores[i:i+4])\n",
        "  i+=4\n",
        "print(cv_scores)\n"
      ],
      "execution_count": 0,
      "outputs": [
        {
          "output_type": "stream",
          "text": [
            "For alpha =  0.8\n"
          ],
          "name": "stdout"
        },
        {
          "output_type": "display_data",
          "data": {
            "image/png": "[encoded data removed]",
            "text/plain": [
              "<Figure size 576x396 with 1 Axes>"
            ]
          },
          "metadata": {
            "tags": []
          }
        },
        {
          "output_type": "stream",
          "text": [
            "[0.93, 0.8800000000000001, 0.8649999999999999, 0.8550000000000001]\n",
            "For alpha =  0.85\n"
          ],
          "name": "stdout"
        },
        {
          "output_type": "display_data",
          "data": {
            "image/png": "[encoded data removed]",
            "text/plain": [
              "<Figure size 576x396 with 1 Axes>"
            ]
          },
          "metadata": {
            "tags": []
          }
        },
        {
          "output_type": "stream",
          "text": [
            "[0.93, 0.8949999999999999, 0.8550000000000001, 0.8450000000000001]\n",
            "For alpha =  0.9\n"
          ],
          "name": "stdout"
        },
        {
          "output_type": "display_data",
          "data": {
            "image/png": "[encoded data removed]",
            "text/plain": [
              "<Figure size 576x396 with 1 Axes>"
            ]
          },
          "metadata": {
            "tags": []
          }
        },
        {
          "output_type": "stream",
          "text": [
            "[0.93, 0.875, 0.8299999999999998, 0.8350000000000002]\n",
            "For alpha =  0.95\n"
          ],
          "name": "stdout"
        },
        {
          "output_type": "display_data",
          "data": {
            "image/png": "[encoded data removed]",
            "text/plain": [
              "<Figure size 576x396 with 1 Axes>"
            ]
          },
          "metadata": {
            "tags": []
          }
        },
        {
          "output_type": "stream",
          "text": [
            "[0.9099999999999999, 0.85, 0.825, 0.8]\n",
            "[0.93, 0.8800000000000001, 0.8649999999999999, 0.8550000000000001, 0.93, 0.8949999999999999, 0.8550000000000001, 0.8450000000000001, 0.93, 0.875, 0.8299999999999998, 0.8350000000000002, 0.9099999999999999, 0.85, 0.825, 0.8]\n"
          ],
          "name": "stdout"
        }
      ]
    },
    {
      "metadata": {
        "id": "Dz5oEQoc3flp",
        "colab_type": "text"
      },
      "cell_type": "markdown",
      "source": [
        "# Bonus\n",
        "### Use different Training and Test splits. Change the number of instances per subject to be 7 and keep 3 instances per subject for testing."
      ]
    },
    {
      "metadata": {
        "id": "MwnxRyx6K5ty",
        "colab_type": "code",
        "outputId": "dccf8d61-224e-47b3-f55c-1130c2233e54",
        "colab": {
          "base_uri": "https://localhost:8080/",
          "height": 503
        }
      },
      "cell_type": "code",
      "source": [
        "#**************split 70% 30% for bonus**********************\n",
        "bonus_train =[]\n",
        "bonus_test = []\n",
        "bonus_lables_train =[]\n",
        "bonus_lables_test =[]\n",
        "\n",
        "bonus_labels = np.array([])\n",
        "\n",
        "for lbl in labels:\n",
        "  for i in range(0,10):\n",
        "    bonus_labels = np.append(bonus_labels,lbl)\n",
        "\n",
        "    \n",
        "print(bonus_train_labels)\n",
        "for i in range(0,400,10):\n",
        "  for j in range(10):\n",
        "    if j < 7:\n",
        "      bonus_train.append(data_mat[j])\n",
        "      bonus_lables_train.append(bonus_labels[j])\n",
        "    else:\n",
        "      bonus_test.append(data_mat[j])\n",
        "      bonus_lables_test.append(bonus_labels[j])\n",
        "  \n",
        "bonus_train_data = np.asarray(bonus_train)\n",
        "bonus_test_data = np.asarray(bonus_test)\n",
        "bonus_train_lbl = np.asarray(bonus_lables_train)\n",
        "bonus_test_lbl =  np.asarray(bonus_lables_test)\n",
        "\n",
        "print(bonus_train_data.shape)\n",
        "print(bonus_test_data.shape)\n",
        "print(bonus_train_lbl.shape)\n",
        "print(bonus_test_lbl.shape)\n",
        "\n",
        "#PCA\n",
        "\n",
        "#calculate mean on dimensions\n",
        "mean = np.mean(bonus_train_data,axis = 0) \n",
        "\n",
        "#center the train and test data\n",
        "train_centered = bonus_train_data - mean\n",
        "test_centered= bonus_test_data -np.mean(bonus_test_data, axis = 0)\n",
        "\n",
        "#calculate covariance matrix\n",
        "cov = np.cov(train_centered.T, bias = True) # shape (10304,10304)\n",
        "\n",
        "print(cov.shape)\n",
        "\n",
        "#calculate eigenvalues and eigenvectors from covariance matrix\n",
        "values, vectors = np.linalg.eigh(cov)\n",
        "\n",
        "print('values',values)\n",
        "print('vectors',vectors)\n",
        "print('vectors shape: ',vectors.shape)\n",
        "\n",
        "#sum of all lamdas\n",
        "sum = 0\n",
        "for lamda in values:\n",
        "  sum+= lamda\n",
        "  \n",
        "print('sum of all lamdas is: ',sum)\n",
        "\n",
        "#sort eigenvalues and vectors descendingly\n",
        "idx = values.argsort()[::-1]\n",
        "values = values[idx]\n",
        "vectors = vectors[:,idx]\n",
        "\n",
        "# Calculating the projection matrix based on different values of alpha and projecting the train and test sets separately\n",
        "sum_r=0\n",
        "i=0\n",
        "alpha = np.array([0.8,0.85,0.9,0.95])\n",
        "for value in alpha:\n",
        "    for lamda in values:\n",
        "        if((sum_r/ sum )< value):\n",
        "            sum_r += lamda\n",
        "            i+=1\n",
        "\n",
        "    print('number of dimensions when alpha =  ',value,'is: ',i+1)\n",
        "    if(value == 0.8):\n",
        "      new_basis_08 =vectors[:,0:i+1]\n",
        "      projected_data_08 = np.dot(new_basis_08.T , train_centered.T)\n",
        "      test_data_08 = np.dot(new_basis_08.T , test_centered.T)\n",
        "\n",
        "      \n",
        "    elif (value == 0.85):\n",
        "      new_basis_085 =vectors[:,0:i+1]\n",
        "      projected_data_085 =np.dot( new_basis_085.T ,train_centered.T)\n",
        "      test_data_085 = np.dot(new_basis_085.T , test_centered.T)\n",
        "\n",
        "      \n",
        "    elif(value == 0.9):\n",
        "      new_basis_09 =vectors[:,0:i+1]\n",
        "      projected_data_09 = np.dot(new_basis_09.T , train_centered.T)\n",
        "      test_data_09 = np.dot(new_basis_09.T , test_centered.T)\n",
        "\n",
        "      \n",
        "    elif(value == 0.95):\n",
        "      new_basis_095 =vectors[:,0:i+1]\n",
        "      projected_data_095 = np.dot(new_basis_095.T , train_centered.T)\n",
        "      test_data_095 = np.dot(new_basis_095.T , test_centered.T)\n",
        "      \n",
        "    sum_r=0\n",
        "    i=0  \n",
        "\n",
        "#KNN Classifier\n",
        "#Report Accuracy for every value of alpha separately.\n",
        "projected_data = [projected_data_08.T,projected_data_085.T,projected_data_09.T,projected_data_095.T]\n",
        "test_data = [test_data_08.T, test_data_085.T, test_data_09.T, test_data_095.T]\n",
        "acc= []\n",
        "\n",
        "clf = KNeighborsClassifier(n_neighbors = 1)\n",
        "\n",
        "i=0\n",
        "for d in projected_data:\n",
        "  clf.fit(d, bonus_train_lbl)\n",
        "  output_labels = clf.predict(test_data[i])\n",
        "  acc.append(accuracy_score(output_labels,bonus_test_lbl))\n",
        "  i+=1\n",
        "  \n",
        "print('Accuracy values for alpha = 0.8, 0.85, 0.9, 0.95 consecutively: ', acc)\n",
        "  \n",
        "\n",
        "#accuracy increases as alpha increases\n"
      ],
      "execution_count": 0,
      "outputs": [
        {
          "output_type": "stream",
          "text": [
            "[]\n",
            "(280, 10304)\n",
            "(120, 10304)\n",
            "(280,)\n",
            "(120,)\n",
            "(10304, 10304)\n",
            "values [-5.58412374e-09 -5.32727438e-09 -4.46146597e-09 ...  1.45061928e+06\n",
            "  2.32348170e+06  4.63412128e+06]\n",
            "vectors [[-8.05748732e-04  8.64614793e-04  1.66992755e-03 ...  1.38633219e-03\n",
            "   5.81328826e-03 -2.42186965e-03]\n",
            " [ 4.03228525e-01 -1.88569820e-01 -4.29724375e-01 ...  2.07176305e-03\n",
            "   5.58092219e-03 -3.40969659e-03]\n",
            " [-2.13898294e-01 -4.11770053e-01 -2.99109437e-02 ...  8.79890996e-04\n",
            "   5.28759032e-03 -2.90848433e-03]\n",
            " ...\n",
            " [ 1.73077232e-03  2.97387855e-03 -2.30105778e-03 ... -7.24652606e-04\n",
            "   6.20479775e-03 -9.21151668e-03]\n",
            " [-9.02757202e-03  5.02844250e-03  1.31340621e-04 ... -1.31092916e-03\n",
            "   6.58230249e-03 -8.89916710e-03]\n",
            " [ 2.24252777e-03 -2.98704326e-03 -1.86470680e-03 ...  6.03502800e-04\n",
            "   3.88536144e-03 -5.72602058e-03]]\n",
            "vectors shape:  (10304, 10304)\n",
            "sum of all lamdas is:  10630079.306122426\n",
            "number of dimensions when alpha =   0.8 is:  5\n",
            "number of dimensions when alpha =   0.85 is:  5\n",
            "number of dimensions when alpha =   0.9 is:  6\n",
            "number of dimensions when alpha =   0.95 is:  6\n",
            "Accuracy values for alpha = 0.8, 0.85, 0.9, 0.95 consecutively:  [1.0, 1.0, 1.0, 1.0]\n"
          ],
          "name": "stdout"
        }
      ]
    },
    {
      "metadata": {
        "id": "wicwvRy72nzL",
        "colab_type": "code",
        "outputId": "6da6df2a-4a45-4d78-e26d-17931d9581d5",
        "colab": {
          "base_uri": "https://localhost:8080/",
          "height": 35
        }
      },
      "cell_type": "code",
      "source": [
        "imgs=[]\n",
        "unrolled_imgs=[]\n",
        "labels_imgs= []\n",
        "\n",
        "dire=\"/content/drive/My Drive/Colab Notebooks/rand_imgs_pgm\"\n",
        "\n",
        "i=0\n",
        "for folder in os.listdir(dire):\n",
        "    img_dir=os.path.join(dire,folder) \n",
        "    labels_imgs.append(folder)\n",
        "    imgs.append(cv2.imread(img_dir,0))\n",
        "    unrolled_imgs.append(np.array(cv2.imread(img_dir,0)).flatten())\n",
        "    \n",
        "    \n",
        "    \n",
        "# print(unrolled_imgs)\n",
        "img_mat =np.array(unrolled_imgs)\n",
        "print(img_mat.shape)\n",
        "# print(labels_imgs)\n",
        "\n",
        "#calculate mean on dimensions\n",
        "bonus_mean = np.mean(data_mat,axis = 0) \n",
        "\n",
        "#center the train and test data\n",
        "data_centered = train - bonus_mean\n",
        "\n",
        "projected_data_bonus = np.dot(new_basis_08.T , data_centered.T)\n",
        "# print(projected_data_bonus.shape)\n",
        "# test_data_08 = np.dot(new_basis_08.T , test_centered.T)\n",
        "\n",
        "# diff = np.absolute(bonus_mean - projected_data_bonus.T)\n"
      ],
      "execution_count": 0,
      "outputs": [
        {
          "output_type": "stream",
          "text": [
            "(100, 10304)\n"
          ],
          "name": "stdout"
        }
      ]
    },
    {
      "metadata": {
        "id": "WYv1EnSJ4fMs",
        "colab_type": "code",
        "colab": {}
      },
      "cell_type": "code",
      "source": [
        ""
      ],
      "execution_count": 0,
      "outputs": []
    }
  ]
}
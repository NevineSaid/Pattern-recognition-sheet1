{
 "cells": [
  {
   "cell_type": "markdown",
   "metadata": {},
   "source": [
    "# Sheet 1"
   ]
  },
  {
   "cell_type": "markdown",
   "metadata": {},
   "source": [
    "## Question 1"
   ]
  },
  {
   "attachments": {},
   "cell_type": "markdown",
   "metadata": {},
   "source": [
    "(a) 4 dimentions <br>\n",
    "(b) Integers<br>\n",
    "(c) $\\sqrt{(10-3)^2 +(60-50)^2 +(10-30)^2 + (90 -40)^2} = 58.309$ <br>\n",
    "(d) $\\sqrt{20^2 + 50^2 + 40^2 + 70^2} = 96.95$ <br>\n",
    "(e) $cos\\theta$ = $X2^T X4 \\over norm(X2)* norm(X4)$<br><br>\n",
    "    $X2^T * X4 = \\begin{bmatrix}20\\\\50\\\\40\\\\70\\end{bmatrix} * \\begin{bmatrix}20&50&40&70\\end{bmatrix} = 8300 $ <br><br>\n",
    "    $norm(X4) = \\sqrt{20^2 + 50^2 + 20^2 + 60^2} = 83.066$ <br><br>\n",
    "    $cos\\theta =$ $8300 \\over 96.95 *83.066$ $ = 1$ and therefore similar<br><br>\n",
    "    \n",
    "(f) Yes we need it because we use distance and distance is affected by feature scaling <br>\n",
    "(g) $x^{-} =$ $ x-min(x) \\over max(x) - min(x)$ min = 10, max = 90 <br>\n",
    "<table>\n",
    "    <tr>\n",
    "        <td>ID</td>\n",
    "        <td>a1</td>\n",
    "        <td>a2</td>\n",
    "        <td>a3</td>\n",
    "        <td>a4</td>\n",
    "    </tr>\n",
    "    <tr>\n",
    "        <td>1</td>\n",
    "        <td>0</td>\n",
    "        <td>0.625</td>\n",
    "        <td>0</td>\n",
    "        <td>1</td>\n",
    "    </tr>\n",
    "    <tr>\n",
    "        <td>2</td>\n",
    "        <td>0.125</td>\n",
    "        <td>0.5</td>\n",
    "        <td>0.375</td>\n",
    "        <td>0.75</td>\n",
    "    </tr>\n",
    "    <tr>\n",
    "        <td>3</td>\n",
    "        <td>0.25</td>\n",
    "        <td>0.5</td>\n",
    "        <td>0.25</td>\n",
    "        <td>0.375</td>\n",
    "    </tr>\n",
    "    <tr>\n",
    "        <td>4</td>\n",
    "        <td>0.125</td>\n",
    "        <td>0.5</td>\n",
    "        <td>0.125</td>\n",
    "        <td>0.625</td>\n",
    "    </tr>\n",
    "    <tr>\n",
    "        <td>5</td>\n",
    "        <td>0</td>\n",
    "        <td>0.625</td>\n",
    "        <td>0.25</td>\n",
    "        <td>0</td>\n",
    "    </tr>\n",
    "    \n",
    " </table>\n",
    " <br>\n",
    "    "
   ]
  },
  {
   "cell_type": "markdown",
   "metadata": {},
   "source": [
    "(h) c. $\\sqrt{(0-0.25)^2 + (0.625-0.5)^2 + (0-0.25)^2 + (1-0.375)^2} = 0.7288$ <br><br>\n",
    "    d. $ norm(X2) = \\sqrt{0.125^2 + 0.5^2 + 0.375^2 + 0.75^2} = 0.984$ <br><br>\n",
    "    e. $X2^T * X4 = \\begin{bmatrix}0.125\\\\0.5\\\\0.375\\\\0.75\\end{bmatrix} * \\begin{bmatrix}0.125&0.5&0.125&0.625\\end{bmatrix} = 0.78125$<br><br>\n",
    "    $norm(X4) = 0.8196$<br>\n",
    "    $cos\\theta = 0.9683$"
   ]
  },
  {
   "cell_type": "markdown",
   "metadata": {},
   "source": [
    "## Question 2"
   ]
  },
  {
   "cell_type": "markdown",
   "metadata": {},
   "source": [
    "### a. Norm of each instance: "
   ]
  },
  {
   "cell_type": "code",
   "execution_count": 1,
   "metadata": {},
   "outputs": [
    {
     "name": "stdout",
     "output_type": "stream",
     "text": [
      "norm of all instances: [109.08712114635715, 96.95359714832658, 76.81145747868608, 83.06623862918075, 68.55654600401044]\n"
     ]
    }
   ],
   "source": [
    "import numpy as np\n",
    "from numpy.linalg import norm\n",
    "x1 = np.array([10, 60, 10, 90])\n",
    "norm_x1 = norm(x1)\n",
    "\n",
    "x2= np.array([20,50,40,70])\n",
    "norm_x2= norm(x2)\n",
    "\n",
    "x3=np.array([30,50,30,40])\n",
    "norm_x3=norm(x3)\n",
    "\n",
    "x4=np.array([20,50,20,60])\n",
    "norm_x4=norm(x4)\n",
    "\n",
    "x5=np.array([10,60,30,10])\n",
    "norm_x5=norm(x5)\n",
    "\n",
    "list = [norm_x1, norm_x2, norm_x3, norm_x4, norm_x5]\n",
    "print('norm of all instances:', list)"
   ]
  },
  {
   "cell_type": "markdown",
   "metadata": {},
   "source": [
    "### b. Cosine similarity matrix"
   ]
  },
  {
   "cell_type": "code",
   "execution_count": 2,
   "metadata": {},
   "outputs": [
    {
     "name": "stdout",
     "output_type": "stream",
     "text": [
      "[[1.         0.93604728 0.85927665 0.97114627 0.65519967]\n",
      " [0.93604728 1.         0.95338522 0.98093136 0.76728608]\n",
      " [0.85927665 0.95338522 1.         0.95604709 0.8735402 ]\n",
      " [0.97114627 0.98093136 0.95604709 1.         0.77264358]\n",
      " [0.65519967 0.76728608 0.8735402  0.77264358 1.        ]]\n"
     ]
    }
   ],
   "source": [
    "# import numpy as np\n",
    "\n",
    "matrix = np.array([[10,60,10,90],[20,50,40,70],[30,50,30,40],[20,50,20,60],[10,60,30,10]])\n",
    "\n",
    "# # matrix = matrix.shape\n",
    "# result = np.dot(matrix,matrix.T)/np.linalg.norm(matrix)\n",
    "# print(result)\n",
    "\n",
    "from sklearn.metrics.pairwise import cosine_similarity\n",
    "cos_sim=cosine_similarity(matrix,matrix)\n",
    "print(cos_sim)"
   ]
  },
  {
   "cell_type": "markdown",
   "metadata": {},
   "source": [
    "### c. Euclidean distance matrix"
   ]
  },
  {
   "cell_type": "code",
   "execution_count": 3,
   "metadata": {},
   "outputs": [
    {
     "name": "stdout",
     "output_type": "stream",
     "text": [
      "[[ 0.         38.72983346 58.30951895 34.64101615 82.46211251]\n",
      " [38.72983346  0.         33.1662479  22.36067977 62.44997998]\n",
      " [58.30951895 33.1662479   0.         24.49489743 37.41657387]\n",
      " [34.64101615 22.36067977 24.49489743  0.         52.91502622]\n",
      " [82.46211251 62.44997998 37.41657387 52.91502622  0.        ]]\n"
     ]
    }
   ],
   "source": [
    "from sklearn.metrics.pairwise import euclidean_distances\n",
    "\n",
    "matrix = [[10,60,10,90],[20,50,40,70],[30,50,30,40],[20,50,20,60],[10,60,30,10]]\n",
    "dist = euclidean_distances(matrix, matrix)\n",
    "print(dist)"
   ]
  },
  {
   "cell_type": "markdown",
   "metadata": {},
   "source": [
    "## Question 3"
   ]
  },
  {
   "cell_type": "markdown",
   "metadata": {},
   "source": [
    "### a. Write down the new data matrix D3"
   ]
  },
  {
   "cell_type": "code",
   "execution_count": 4,
   "metadata": {},
   "outputs": [
    {
     "name": "stdout",
     "output_type": "stream",
     "text": [
      "D3 = [[10 60 90]\n",
      " [20 50 70]\n",
      " [30 50 40]\n",
      " [20 50 60]\n",
      " [10 60 10]]\n"
     ]
    }
   ],
   "source": [
    "import numpy as np\n",
    "\n",
    "D3 = np.array([[10,60,90],[20,50,70],[30,50,40],[20,50,60],[10,60,10]])\n",
    "print('D3 =', D3)"
   ]
  },
  {
   "cell_type": "markdown",
   "metadata": {},
   "source": [
    "### b. Plot the data using 3d scatter plots"
   ]
  },
  {
   "cell_type": "code",
   "execution_count": 5,
   "metadata": {},
   "outputs": [
    {
     "data": {
      "text/plain": [
       "<Figure size 640x480 with 1 Axes>"
      ]
     },
     "metadata": {},
     "output_type": "display_data"
    }
   ],
   "source": [
    "from mpl_toolkits.mplot3d import Axes3D\n",
    "import matplotlib.pyplot as plt\n",
    "\n",
    "fig = plt.figure()\n",
    "ax = Axes3D(fig)\n",
    "\n",
    "a1 =[10,20,30,20,10]\n",
    "a2 =[60,50,50,50,60]\n",
    "a4 =[90,70,40,60,10]\n",
    "\n",
    "\n",
    "\n",
    "ax.scatter(a1, a2, a4)\n",
    "\n",
    "ax.set_xlabel('X axis')\n",
    "ax.set_ylabel('Y axis')\n",
    "ax.set_zlabel('Z axis')\n",
    "\n",
    "plt.show()"
   ]
  },
  {
   "cell_type": "markdown",
   "metadata": {},
   "source": [
    "### c. Compute the mean vector"
   ]
  },
  {
   "cell_type": "code",
   "execution_count": 6,
   "metadata": {},
   "outputs": [
    {
     "name": "stdout",
     "output_type": "stream",
     "text": [
      "[18. 54. 54.]\n"
     ]
    }
   ],
   "source": [
    "import numpy as np\n",
    "D3 = np.array([[10,60,90],[20,50,70],[30,50,40],[20,50,60],[10,60,10]])\n",
    "mean = np.mean(D3, axis = 0) #xis = 0 for columns\n",
    "\n",
    "print(mean)"
   ]
  },
  {
   "cell_type": "markdown",
   "metadata": {},
   "source": [
    "### d. Compute centered data matrix Z by subtracting mean vector from the Data Matrix."
   ]
  },
  {
   "cell_type": "code",
   "execution_count": 7,
   "metadata": {},
   "outputs": [
    {
     "name": "stdout",
     "output_type": "stream",
     "text": [
      "[[ -8.   6.  36.]\n",
      " [  2.  -4.  16.]\n",
      " [ 12.  -4. -14.]\n",
      " [  2.  -4.   6.]\n",
      " [ -8.   6. -44.]]\n"
     ]
    }
   ],
   "source": [
    "import numpy as np\n",
    "D3 = np.array([[10,60,90],[20,50,70],[30,50,40],[20,50,60],[10,60,10]])\n",
    "mean = np.mean(D3, axis = 0)\n",
    "Z = D3 - mean\n",
    "print(Z)\n"
   ]
  },
  {
   "cell_type": "markdown",
   "metadata": {},
   "source": [
    "### e. Compute Covariance matrix COV "
   ]
  },
  {
   "cell_type": "code",
   "execution_count": 8,
   "metadata": {},
   "outputs": [
    {
     "name": "stdout",
     "output_type": "stream",
     "text": [
      "[[ 70. -40. -15.]\n",
      " [-40.  30. -20.]\n",
      " [-15. -20. 930.]]\n"
     ]
    }
   ],
   "source": [
    "COV = np.cov(Z.T)\n",
    "print(COV)"
   ]
  },
  {
   "cell_type": "markdown",
   "metadata": {},
   "source": [
    "### f. Use python solvers to find eigenvalues and eigen vectors."
   ]
  },
  {
   "cell_type": "code",
   "execution_count": 9,
   "metadata": {},
   "outputs": [
    {
     "name": "stdout",
     "output_type": "stream",
     "text": [
      "[  4.60865707  94.71537456 930.67596837]\n",
      "[[ 0.52611085  0.85025739 -0.01642407]\n",
      " [ 0.8499905  -0.5263604  -0.02146802]\n",
      " [ 0.02689832  0.00266574  0.99963462]]\n"
     ]
    }
   ],
   "source": [
    "values, vectors = np.linalg.eigh(COV)\n",
    "print(values)\n",
    "print(vectors)"
   ]
  },
  {
   "cell_type": "markdown",
   "metadata": {},
   "source": [
    "### g. Verify $U^T Λ U= COV$"
   ]
  },
  {
   "cell_type": "code",
   "execution_count": 10,
   "metadata": {},
   "outputs": [
    {
     "name": "stdout",
     "output_type": "stream",
     "text": [
      "[ 4921163.35705351 14908778.23567078 18426864.70626979]\n"
     ]
    }
   ],
   "source": [
    "result = np.dot(D3.T,D3)\n",
    "\n",
    "result = np.dot(result,values)\n",
    "print(result)"
   ]
  },
  {
   "cell_type": "markdown",
   "metadata": {},
   "source": [
    "### h. Compute the explained variance by the eigenvector corresponding to the largest eigenvalue. Do you think one eigenvector is good enough?"
   ]
  },
  {
   "cell_type": "markdown",
   "metadata": {},
   "source": [
    "The 3 eigenvalues calculated are: 4.60865707,  94.71537456, 930.67596837 which equals to the variance. Therefore, to best represent the data we shall take the eigen vectors corresponding to 930.67 and 94.71 as PC1 and PC2."
   ]
  },
  {
   "cell_type": "markdown",
   "metadata": {},
   "source": [
    "### i. Compute the projection matrix P to go to 2-dimensions. Consider the top two eigenvectors of matrix U according to eigenvalues."
   ]
  },
  {
   "cell_type": "code",
   "execution_count": 11,
   "metadata": {},
   "outputs": [
    {
     "name": "stdout",
     "output_type": "stream",
     "text": [
      "[[ 0.85025739 -0.01642407]\n",
      " [-0.5263604  -0.02146802]\n",
      " [ 0.00266574  0.99963462]]\n"
     ]
    }
   ],
   "source": [
    "projection = vectors[:,1:]\n",
    "print(projection)"
   ]
  },
  {
   "cell_type": "markdown",
   "metadata": {},
   "source": [
    "### j. Project the instances into a 2-Dimension space."
   ]
  },
  {
   "cell_type": "code",
   "execution_count": 12,
   "metadata": {},
   "outputs": [
    {
     "name": "stdout",
     "output_type": "stream",
     "text": [
      "[[-22.83913329  88.51479397]\n",
      " [ -9.12627026  68.57254111]\n",
      " [ -0.70366863  38.41926184]\n",
      " [ -9.15292768  58.57619491]\n",
      " [-23.05239261   8.54402434]]\n"
     ]
    }
   ],
   "source": [
    "result_data_mat = np.dot(D3,projection)\n",
    "print(result_data_mat)"
   ]
  },
  {
   "cell_type": "markdown",
   "metadata": {},
   "source": [
    "### k. Plot the resulting Data matrix D2 using scatter plots."
   ]
  },
  {
   "cell_type": "code",
   "execution_count": null,
   "metadata": {},
   "outputs": [],
   "source": [
    "import matplotlib.pyplot as plt\n",
    "plt.scatter(result_data_mat[:,0],result_data_mat[:,1])"
   ]
  },
  {
   "cell_type": "markdown",
   "metadata": {},
   "source": [
    "##  Question 4"
   ]
  },
  {
   "cell_type": "markdown",
   "metadata": {},
   "source": [
    "### A. Compute 3x3 Covariance matrix of the 5 tuples dataset we have."
   ]
  },
  {
   "cell_type": "code",
   "execution_count": 13,
   "metadata": {},
   "outputs": [
    {
     "name": "stdout",
     "output_type": "stream",
     "text": [
      "[[ 2.008  -0.5185 -0.3455]\n",
      " [-0.5185  1.492  -0.054 ]\n",
      " [-0.3455 -0.054   3.428 ]]\n"
     ]
    }
   ],
   "source": [
    "mat = np.array([[0.5,4.5,2.5],[2.2,1.5,0.1], [3.9,3.5,1.1],[2.1,1.9,4.9],[0.5,3.2,1.2]])\n",
    "\n",
    "u = np.mean(mat, axis = 0)\n",
    "z = mat - mean\n",
    "co_var = np.cov(z.T)\n",
    "print(co_var)"
   ]
  },
  {
   "cell_type": "markdown",
   "metadata": {},
   "source": [
    "### B. 1) Compute the three eigenvalues of the covariance matrix"
   ]
  },
  {
   "cell_type": "markdown",
   "metadata": {},
   "source": [
    "$\\lambda a + \\lambda b + \\lambda c = 2.008+1.492+3.428 = 3.446$<br>\n",
    "$\\lambda a \\over \\lambda b$ = 0.505 \n",
    "therefore $\\lambda a = 0.505 \\lambda b$ <br><br>\n",
    "$\\lambda b \\over \\lambda c$ = 0.647 \n",
    "therefore $\\lambda c$= $\\lambda b \\over 0.647$<br><br>\n",
    "$\\lambda b+ 0.505 \\lambda b +$ $ \\lambda b \\over 0.647$  = 3.446 <br><br>\n",
    "therefore $\\lambda b = 1.1296$  <br><br>\n",
    "$\\lambda a = 0.505 * 1.1296 = 0.5704$ <br><br>\n",
    "$\\lambda c = 1.7459$"
   ]
  },
  {
   "cell_type": "markdown",
   "metadata": {},
   "source": [
    "### B. 2) Determine the explained variance"
   ]
  },
  {
   "cell_type": "code",
   "execution_count": null,
   "metadata": {},
   "outputs": [],
   "source": []
  }
 ],
 "metadata": {
  "kernelspec": {
   "display_name": "Python 3",
   "language": "python",
   "name": "python3"
  },
  "language_info": {
   "codemirror_mode": {
    "name": "ipython",
    "version": 3
   },
   "file_extension": ".py",
   "mimetype": "text/x-python",
   "name": "python",
   "nbconvert_exporter": "python",
   "pygments_lexer": "ipython3",
   "version": "3.7.1"
  }
 },
 "nbformat": 4,
 "nbformat_minor": 2
}
